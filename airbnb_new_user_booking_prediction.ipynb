{
 "cells": [
  {
   "cell_type": "markdown",
   "metadata": {},
   "source": [
    "# Airbnb New User Booking Prediction\n",
    "\n",
    "This exericise is a variation of the Kaggle project: __[Airbnb New User Bookings](https://www.kaggle.com/c/airbnb-recruiting-new-user-bookings)__\n",
    "\n",
    "While the original study aims to predict the destinations for new users' bookings, this project will predict an earlier stage of the business process: if the user will book a trip or not. The dataset shows that only around 41% of the users book a trip. Airbnb makes money through commission from hosts and transaction fee from travellers when a traveller books a room. By exploring features that incentivize a user to make a reservation and successfully predict if a user will make a reservation, the company will be able to further improve its product and drive revenue.\n",
    "\n",
    "If you are not familiar of how Airbnb works, this article will help you:) <br>\n",
    "__[How Airbnb Works](https://nextjuggernaut.com/blog/airbnb-business-model-revenue-insights/)__"
   ]
  },
  {
   "cell_type": "markdown",
   "metadata": {},
   "source": [
    "## __Table of Contents__\n",
    "\n",
    "1.  [Preparation](#prep)<br>\n",
    "    1.1  [Importing Libraries](#import)<br>\n",
    "    1.2  [Reading in Datasets](#readin)<br>\n",
    "2.  [EDA & Feature Engineering](#eda)<br>\n",
    "    2.1  [Overall Sense of the Data](#overall)<br>\n",
    "    2.2  [Feature Exploration & Engineering](#explore)<br>\n",
    "    2.3  [Prepare Dataset for Modeling](#prepare)<br>\n",
    "    2.4  [Split Test & Train Datasets](#split)<br>\n",
    "3.  [Modeling](#model)<br>\n",
    "    3.1  [Logistic Regression](#logreg)<br>\n",
    "    3.2  [Random Forest](#rf)<br>\n",
    "    3.3  [Support Vector Machine](#svc)\n",
    "4.  [Exercise Highlights](#highlight)<br>\n",
    "5.  [Further Improvements](#improvement)"
   ]
  },
  {
   "cell_type": "markdown",
   "metadata": {},
   "source": [
    "## 1. Preparation\n",
    "\n",
    "<a id = 'prep'></a>"
   ]
  },
  {
   "cell_type": "markdown",
   "metadata": {},
   "source": [
    "### 1.1 Importing Libraries\n",
    "\n",
    "<a id = 'import'></a>"
   ]
  },
  {
   "cell_type": "code",
   "execution_count": 1,
   "metadata": {
    "collapsed": true
   },
   "outputs": [],
   "source": [
    "# import useful packages for the analysis\n",
    "\n",
    "# Data Analysis & Preprocessing Packages\n",
    "import pandas as pd\n",
    "import numpy as np\n",
    "#from sklearn.preprocessing import OneHotEncoder\n",
    "from sklearn.model_selection import train_test_split\n",
    "from sklearn.preprocessing import StandardScaler\n",
    "\n",
    "# Data Visualization Packages\n",
    "import matplotlib.pyplot as plt\n",
    "import seaborn as sns\n",
    "%matplotlib inline\n",
    "\n",
    "# Machine Learning Packages\n",
    "from sklearn.model_selection import StratifiedKFold\n",
    "from sklearn.linear_model import LogisticRegression\n",
    "from sklearn.ensemble import RandomForestClassifier\n",
    "from sklearn.svm import SVC"
   ]
  },
  {
   "cell_type": "markdown",
   "metadata": {},
   "source": [
    "### 1.2 Reading in Datasets\n",
    "\n",
    "__Data Description__\n",
    "\n",
    "Table 1: abnb_raw: _user information _\n",
    "\n",
    "Column Name | Column Description\n",
    "-------------|:--------------------------\n",
    "id | user id\n",
    "date_account_created | the date of account creation\n",
    "timestamp_first_active | timestamp of the first activity, note that it can be earlier than date_account_created or date_first_booking because a user can search before signing up\n",
    "date_first_booking| date of first booking\n",
    "gender | user gender\n",
    "age | user age\n",
    "signup_method | signup method\n",
    "signup_flow | the page a user came to signup up from\n",
    "language | international language preference\n",
    "affiliate_channel | what kind of paid marketing\n",
    "affiliate_provider | where the marketing is e.g. google, craigslist, other\n",
    "first_affiliate_tracked | whats the first marketing the user interacted with before the signing up\n",
    "signup_app | signup app\n",
    "first_device_type | first used device\n",
    "first_browser | first used browser\n",
    "country_destination | this is the target variable you are to predict\n",
    "\n",
    "\n",
    "Table 2: sessions: _web sessions log for users_\n",
    "\n",
    "Column Name | Column Description\n",
    "-------------|:--------------------------\n",
    "user_id | to be joined with the column 'id' in users table                                                       \n",
    "action |\n",
    "action_type |\n",
    "action_detail |\n",
    "device_type |\n",
    "secs_elapsed |\n",
    "\n",
    "<a id = 'readin'></a>"
   ]
  },
  {
   "cell_type": "code",
   "execution_count": 2,
   "metadata": {
    "collapsed": true
   },
   "outputs": [],
   "source": [
    "# read in datasets\n",
    "abnb_raw = pd.read_csv('data/train_users_2.csv')\n",
    "sessions = pd.read_csv('data/sessions.csv')"
   ]
  },
  {
   "cell_type": "markdown",
   "metadata": {},
   "source": [
    "## 2. EDA & Feature Engineering"
   ]
  },
  {
   "cell_type": "markdown",
   "metadata": {},
   "source": [
    "### 2.1 Getting an Overall Sense of the data\n",
    "\n",
    "<a id = 'overall'></a>"
   ]
  },
  {
   "cell_type": "markdown",
   "metadata": {},
   "source": [
    "#### 2.1.1 Sessions Dataset\n",
    "\n",
    "The user web session log is a huge dataset with over __10M__ records. <br>\n",
    "It contains user experience data of __135,484__ unique users (About half the size of the user information dataset).<br>\n",
    "In order to join this table with the user information table, we will need to aggregate and transform it. "
   ]
  },
  {
   "cell_type": "code",
   "execution_count": 3,
   "metadata": {},
   "outputs": [
    {
     "data": {
      "text/html": [
       "<div>\n",
       "<style scoped>\n",
       "    .dataframe tbody tr th:only-of-type {\n",
       "        vertical-align: middle;\n",
       "    }\n",
       "\n",
       "    .dataframe tbody tr th {\n",
       "        vertical-align: top;\n",
       "    }\n",
       "\n",
       "    .dataframe thead th {\n",
       "        text-align: right;\n",
       "    }\n",
       "</style>\n",
       "<table border=\"1\" class=\"dataframe\">\n",
       "  <thead>\n",
       "    <tr style=\"text-align: right;\">\n",
       "      <th></th>\n",
       "      <th>user_id</th>\n",
       "      <th>action</th>\n",
       "      <th>action_type</th>\n",
       "      <th>action_detail</th>\n",
       "      <th>device_type</th>\n",
       "      <th>secs_elapsed</th>\n",
       "    </tr>\n",
       "  </thead>\n",
       "  <tbody>\n",
       "    <tr>\n",
       "      <th>6754509</th>\n",
       "      <td>7htooiq6k7</td>\n",
       "      <td>impressions</td>\n",
       "      <td>view</td>\n",
       "      <td>p4</td>\n",
       "      <td>Mac Desktop</td>\n",
       "      <td>2634.0</td>\n",
       "    </tr>\n",
       "    <tr>\n",
       "      <th>5638038</th>\n",
       "      <td>p5ubhzwd3w</td>\n",
       "      <td>index</td>\n",
       "      <td>view</td>\n",
       "      <td>view_search_results</td>\n",
       "      <td>Windows Desktop</td>\n",
       "      <td>579.0</td>\n",
       "    </tr>\n",
       "    <tr>\n",
       "      <th>4881255</th>\n",
       "      <td>7zjecuo8vv</td>\n",
       "      <td>lookup</td>\n",
       "      <td>NaN</td>\n",
       "      <td>NaN</td>\n",
       "      <td>Windows Desktop</td>\n",
       "      <td>2163.0</td>\n",
       "    </tr>\n",
       "    <tr>\n",
       "      <th>6719138</th>\n",
       "      <td>ia67bm43f8</td>\n",
       "      <td>show</td>\n",
       "      <td>view</td>\n",
       "      <td>user_profile</td>\n",
       "      <td>iPhone</td>\n",
       "      <td>75.0</td>\n",
       "    </tr>\n",
       "    <tr>\n",
       "      <th>6587720</th>\n",
       "      <td>yf4qnuyrzn</td>\n",
       "      <td>reviews</td>\n",
       "      <td>data</td>\n",
       "      <td>listing_reviews</td>\n",
       "      <td>-unknown-</td>\n",
       "      <td>170.0</td>\n",
       "    </tr>\n",
       "  </tbody>\n",
       "</table>\n",
       "</div>"
      ],
      "text/plain": [
       "            user_id       action action_type        action_detail  \\\n",
       "6754509  7htooiq6k7  impressions        view                   p4   \n",
       "5638038  p5ubhzwd3w        index        view  view_search_results   \n",
       "4881255  7zjecuo8vv       lookup         NaN                  NaN   \n",
       "6719138  ia67bm43f8         show        view         user_profile   \n",
       "6587720  yf4qnuyrzn      reviews        data      listing_reviews   \n",
       "\n",
       "             device_type  secs_elapsed  \n",
       "6754509      Mac Desktop        2634.0  \n",
       "5638038  Windows Desktop         579.0  \n",
       "4881255  Windows Desktop        2163.0  \n",
       "6719138           iPhone          75.0  \n",
       "6587720        -unknown-         170.0  "
      ]
     },
     "execution_count": 3,
     "metadata": {},
     "output_type": "execute_result"
    }
   ],
   "source": [
    "sessions.sample(5)"
   ]
  },
  {
   "cell_type": "code",
   "execution_count": 4,
   "metadata": {
    "scrolled": false
   },
   "outputs": [
    {
     "data": {
      "text/html": [
       "<div>\n",
       "<style scoped>\n",
       "    .dataframe tbody tr th:only-of-type {\n",
       "        vertical-align: middle;\n",
       "    }\n",
       "\n",
       "    .dataframe tbody tr th {\n",
       "        vertical-align: top;\n",
       "    }\n",
       "\n",
       "    .dataframe thead th {\n",
       "        text-align: right;\n",
       "    }\n",
       "</style>\n",
       "<table border=\"1\" class=\"dataframe\">\n",
       "  <thead>\n",
       "    <tr style=\"text-align: right;\">\n",
       "      <th></th>\n",
       "      <th>user_id</th>\n",
       "      <th>action</th>\n",
       "      <th>action_type</th>\n",
       "      <th>action_detail</th>\n",
       "      <th>device_type</th>\n",
       "      <th>secs_elapsed</th>\n",
       "    </tr>\n",
       "  </thead>\n",
       "  <tbody>\n",
       "    <tr>\n",
       "      <th>count</th>\n",
       "      <td>10533241</td>\n",
       "      <td>10488111</td>\n",
       "      <td>9441533</td>\n",
       "      <td>9441533</td>\n",
       "      <td>10567737</td>\n",
       "      <td>1.043171e+07</td>\n",
       "    </tr>\n",
       "    <tr>\n",
       "      <th>unique</th>\n",
       "      <td>135483</td>\n",
       "      <td>359</td>\n",
       "      <td>10</td>\n",
       "      <td>155</td>\n",
       "      <td>14</td>\n",
       "      <td>NaN</td>\n",
       "    </tr>\n",
       "    <tr>\n",
       "      <th>top</th>\n",
       "      <td>mxqbh3ykxl</td>\n",
       "      <td>show</td>\n",
       "      <td>view</td>\n",
       "      <td>view_search_results</td>\n",
       "      <td>Mac Desktop</td>\n",
       "      <td>NaN</td>\n",
       "    </tr>\n",
       "    <tr>\n",
       "      <th>freq</th>\n",
       "      <td>2722</td>\n",
       "      <td>2768278</td>\n",
       "      <td>3560902</td>\n",
       "      <td>1776885</td>\n",
       "      <td>3594286</td>\n",
       "      <td>NaN</td>\n",
       "    </tr>\n",
       "    <tr>\n",
       "      <th>mean</th>\n",
       "      <td>NaN</td>\n",
       "      <td>NaN</td>\n",
       "      <td>NaN</td>\n",
       "      <td>NaN</td>\n",
       "      <td>NaN</td>\n",
       "      <td>1.940581e+04</td>\n",
       "    </tr>\n",
       "    <tr>\n",
       "      <th>std</th>\n",
       "      <td>NaN</td>\n",
       "      <td>NaN</td>\n",
       "      <td>NaN</td>\n",
       "      <td>NaN</td>\n",
       "      <td>NaN</td>\n",
       "      <td>8.888424e+04</td>\n",
       "    </tr>\n",
       "    <tr>\n",
       "      <th>min</th>\n",
       "      <td>NaN</td>\n",
       "      <td>NaN</td>\n",
       "      <td>NaN</td>\n",
       "      <td>NaN</td>\n",
       "      <td>NaN</td>\n",
       "      <td>0.000000e+00</td>\n",
       "    </tr>\n",
       "    <tr>\n",
       "      <th>25%</th>\n",
       "      <td>NaN</td>\n",
       "      <td>NaN</td>\n",
       "      <td>NaN</td>\n",
       "      <td>NaN</td>\n",
       "      <td>NaN</td>\n",
       "      <td>2.290000e+02</td>\n",
       "    </tr>\n",
       "    <tr>\n",
       "      <th>50%</th>\n",
       "      <td>NaN</td>\n",
       "      <td>NaN</td>\n",
       "      <td>NaN</td>\n",
       "      <td>NaN</td>\n",
       "      <td>NaN</td>\n",
       "      <td>1.147000e+03</td>\n",
       "    </tr>\n",
       "    <tr>\n",
       "      <th>75%</th>\n",
       "      <td>NaN</td>\n",
       "      <td>NaN</td>\n",
       "      <td>NaN</td>\n",
       "      <td>NaN</td>\n",
       "      <td>NaN</td>\n",
       "      <td>8.444000e+03</td>\n",
       "    </tr>\n",
       "    <tr>\n",
       "      <th>max</th>\n",
       "      <td>NaN</td>\n",
       "      <td>NaN</td>\n",
       "      <td>NaN</td>\n",
       "      <td>NaN</td>\n",
       "      <td>NaN</td>\n",
       "      <td>1.799977e+06</td>\n",
       "    </tr>\n",
       "  </tbody>\n",
       "</table>\n",
       "</div>"
      ],
      "text/plain": [
       "           user_id    action action_type        action_detail  device_type  \\\n",
       "count     10533241  10488111     9441533              9441533     10567737   \n",
       "unique      135483       359          10                  155           14   \n",
       "top     mxqbh3ykxl      show        view  view_search_results  Mac Desktop   \n",
       "freq          2722   2768278     3560902              1776885      3594286   \n",
       "mean           NaN       NaN         NaN                  NaN          NaN   \n",
       "std            NaN       NaN         NaN                  NaN          NaN   \n",
       "min            NaN       NaN         NaN                  NaN          NaN   \n",
       "25%            NaN       NaN         NaN                  NaN          NaN   \n",
       "50%            NaN       NaN         NaN                  NaN          NaN   \n",
       "75%            NaN       NaN         NaN                  NaN          NaN   \n",
       "max            NaN       NaN         NaN                  NaN          NaN   \n",
       "\n",
       "        secs_elapsed  \n",
       "count   1.043171e+07  \n",
       "unique           NaN  \n",
       "top              NaN  \n",
       "freq             NaN  \n",
       "mean    1.940581e+04  \n",
       "std     8.888424e+04  \n",
       "min     0.000000e+00  \n",
       "25%     2.290000e+02  \n",
       "50%     1.147000e+03  \n",
       "75%     8.444000e+03  \n",
       "max     1.799977e+06  "
      ]
     },
     "execution_count": 4,
     "metadata": {},
     "output_type": "execute_result"
    }
   ],
   "source": [
    "sessions.describe(include = 'all')"
   ]
  },
  {
   "cell_type": "code",
   "execution_count": 5,
   "metadata": {
    "scrolled": true
   },
   "outputs": [
    {
     "data": {
      "text/html": [
       "<div>\n",
       "<style scoped>\n",
       "    .dataframe tbody tr th:only-of-type {\n",
       "        vertical-align: middle;\n",
       "    }\n",
       "\n",
       "    .dataframe tbody tr th {\n",
       "        vertical-align: top;\n",
       "    }\n",
       "\n",
       "    .dataframe thead th {\n",
       "        text-align: right;\n",
       "    }\n",
       "</style>\n",
       "<table border=\"1\" class=\"dataframe\">\n",
       "  <thead>\n",
       "    <tr style=\"text-align: right;\">\n",
       "      <th>action</th>\n",
       "      <th>id</th>\n",
       "      <th>10</th>\n",
       "      <th>11</th>\n",
       "      <th>12</th>\n",
       "      <th>15</th>\n",
       "      <th>about_us</th>\n",
       "      <th>accept_decline</th>\n",
       "      <th>account</th>\n",
       "      <th>acculynk_bin_check_failed</th>\n",
       "      <th>acculynk_bin_check_success</th>\n",
       "      <th>...</th>\n",
       "      <th>view</th>\n",
       "      <th>views</th>\n",
       "      <th>views_campaign</th>\n",
       "      <th>views_campaign_rules</th>\n",
       "      <th>webcam_upload</th>\n",
       "      <th>weibo_signup_referral_finish</th>\n",
       "      <th>why_host</th>\n",
       "      <th>widget</th>\n",
       "      <th>wishlists</th>\n",
       "      <th>zendesk_login_jwt</th>\n",
       "    </tr>\n",
       "  </thead>\n",
       "  <tbody>\n",
       "    <tr>\n",
       "      <th>0</th>\n",
       "      <td>00023iyk9l</td>\n",
       "      <td>0.0</td>\n",
       "      <td>0.0</td>\n",
       "      <td>0.0</td>\n",
       "      <td>0.0</td>\n",
       "      <td>0.0</td>\n",
       "      <td>0.0</td>\n",
       "      <td>0.0</td>\n",
       "      <td>0.0</td>\n",
       "      <td>0.0</td>\n",
       "      <td>...</td>\n",
       "      <td>0.0</td>\n",
       "      <td>0.0</td>\n",
       "      <td>0.0</td>\n",
       "      <td>0.0</td>\n",
       "      <td>0.0</td>\n",
       "      <td>0.0</td>\n",
       "      <td>0.0</td>\n",
       "      <td>0.0</td>\n",
       "      <td>0.0</td>\n",
       "      <td>0.0</td>\n",
       "    </tr>\n",
       "    <tr>\n",
       "      <th>1</th>\n",
       "      <td>0010k6l0om</td>\n",
       "      <td>0.0</td>\n",
       "      <td>0.0</td>\n",
       "      <td>0.0</td>\n",
       "      <td>0.0</td>\n",
       "      <td>0.0</td>\n",
       "      <td>0.0</td>\n",
       "      <td>0.0</td>\n",
       "      <td>0.0</td>\n",
       "      <td>0.0</td>\n",
       "      <td>...</td>\n",
       "      <td>0.0</td>\n",
       "      <td>0.0</td>\n",
       "      <td>0.0</td>\n",
       "      <td>0.0</td>\n",
       "      <td>0.0</td>\n",
       "      <td>0.0</td>\n",
       "      <td>0.0</td>\n",
       "      <td>0.0</td>\n",
       "      <td>0.0</td>\n",
       "      <td>0.0</td>\n",
       "    </tr>\n",
       "    <tr>\n",
       "      <th>2</th>\n",
       "      <td>001wyh0pz8</td>\n",
       "      <td>0.0</td>\n",
       "      <td>0.0</td>\n",
       "      <td>0.0</td>\n",
       "      <td>0.0</td>\n",
       "      <td>0.0</td>\n",
       "      <td>0.0</td>\n",
       "      <td>0.0</td>\n",
       "      <td>0.0</td>\n",
       "      <td>0.0</td>\n",
       "      <td>...</td>\n",
       "      <td>0.0</td>\n",
       "      <td>0.0</td>\n",
       "      <td>0.0</td>\n",
       "      <td>0.0</td>\n",
       "      <td>0.0</td>\n",
       "      <td>0.0</td>\n",
       "      <td>0.0</td>\n",
       "      <td>0.0</td>\n",
       "      <td>0.0</td>\n",
       "      <td>0.0</td>\n",
       "    </tr>\n",
       "    <tr>\n",
       "      <th>3</th>\n",
       "      <td>0028jgx1x1</td>\n",
       "      <td>0.0</td>\n",
       "      <td>0.0</td>\n",
       "      <td>0.0</td>\n",
       "      <td>0.0</td>\n",
       "      <td>0.0</td>\n",
       "      <td>0.0</td>\n",
       "      <td>0.0</td>\n",
       "      <td>0.0</td>\n",
       "      <td>0.0</td>\n",
       "      <td>...</td>\n",
       "      <td>0.0</td>\n",
       "      <td>0.0</td>\n",
       "      <td>0.0</td>\n",
       "      <td>0.0</td>\n",
       "      <td>0.0</td>\n",
       "      <td>0.0</td>\n",
       "      <td>0.0</td>\n",
       "      <td>0.0</td>\n",
       "      <td>0.0</td>\n",
       "      <td>0.0</td>\n",
       "    </tr>\n",
       "    <tr>\n",
       "      <th>4</th>\n",
       "      <td>002qnbzfs5</td>\n",
       "      <td>301482.0</td>\n",
       "      <td>0.0</td>\n",
       "      <td>0.0</td>\n",
       "      <td>0.0</td>\n",
       "      <td>0.0</td>\n",
       "      <td>0.0</td>\n",
       "      <td>0.0</td>\n",
       "      <td>0.0</td>\n",
       "      <td>0.0</td>\n",
       "      <td>...</td>\n",
       "      <td>0.0</td>\n",
       "      <td>0.0</td>\n",
       "      <td>0.0</td>\n",
       "      <td>0.0</td>\n",
       "      <td>0.0</td>\n",
       "      <td>0.0</td>\n",
       "      <td>0.0</td>\n",
       "      <td>0.0</td>\n",
       "      <td>0.0</td>\n",
       "      <td>0.0</td>\n",
       "    </tr>\n",
       "  </tbody>\n",
       "</table>\n",
       "<p>5 rows × 360 columns</p>\n",
       "</div>"
      ],
      "text/plain": [
       "action          id        10   11   12   15  about_us  accept_decline  \\\n",
       "0       00023iyk9l       0.0  0.0  0.0  0.0       0.0             0.0   \n",
       "1       0010k6l0om       0.0  0.0  0.0  0.0       0.0             0.0   \n",
       "2       001wyh0pz8       0.0  0.0  0.0  0.0       0.0             0.0   \n",
       "3       0028jgx1x1       0.0  0.0  0.0  0.0       0.0             0.0   \n",
       "4       002qnbzfs5  301482.0  0.0  0.0  0.0       0.0             0.0   \n",
       "\n",
       "action  account  acculynk_bin_check_failed  acculynk_bin_check_success  \\\n",
       "0           0.0                        0.0                         0.0   \n",
       "1           0.0                        0.0                         0.0   \n",
       "2           0.0                        0.0                         0.0   \n",
       "3           0.0                        0.0                         0.0   \n",
       "4           0.0                        0.0                         0.0   \n",
       "\n",
       "action        ...          view  views  views_campaign  views_campaign_rules  \\\n",
       "0             ...           0.0    0.0             0.0                   0.0   \n",
       "1             ...           0.0    0.0             0.0                   0.0   \n",
       "2             ...           0.0    0.0             0.0                   0.0   \n",
       "3             ...           0.0    0.0             0.0                   0.0   \n",
       "4             ...           0.0    0.0             0.0                   0.0   \n",
       "\n",
       "action  webcam_upload  weibo_signup_referral_finish  why_host  widget  \\\n",
       "0                 0.0                           0.0       0.0     0.0   \n",
       "1                 0.0                           0.0       0.0     0.0   \n",
       "2                 0.0                           0.0       0.0     0.0   \n",
       "3                 0.0                           0.0       0.0     0.0   \n",
       "4                 0.0                           0.0       0.0     0.0   \n",
       "\n",
       "action  wishlists  zendesk_login_jwt  \n",
       "0             0.0                0.0  \n",
       "1             0.0                0.0  \n",
       "2             0.0                0.0  \n",
       "3             0.0                0.0  \n",
       "4             0.0                0.0  \n",
       "\n",
       "[5 rows x 360 columns]"
      ]
     },
     "execution_count": 5,
     "metadata": {},
     "output_type": "execute_result"
    }
   ],
   "source": [
    "# create an actions table with each action as a feature and id as observations\n",
    "sessions_agg = sessions[['user_id', 'action', 'secs_elapsed']].groupby(['user_id', 'action']).sum()\n",
    "actions = sessions_agg.unstack()\n",
    "actions = actions.reset_index()\n",
    "actions.columns = actions.columns.droplevel()\n",
    "actions = actions.rename(columns = {'':'id'})\n",
    "actions = actions.fillna(0)\n",
    "actions.head()"
   ]
  },
  {
   "cell_type": "code",
   "execution_count": 6,
   "metadata": {},
   "outputs": [
    {
     "data": {
      "text/html": [
       "<div>\n",
       "<style scoped>\n",
       "    .dataframe tbody tr th:only-of-type {\n",
       "        vertical-align: middle;\n",
       "    }\n",
       "\n",
       "    .dataframe tbody tr th {\n",
       "        vertical-align: top;\n",
       "    }\n",
       "\n",
       "    .dataframe thead th {\n",
       "        text-align: right;\n",
       "    }\n",
       "</style>\n",
       "<table border=\"1\" class=\"dataframe\">\n",
       "  <thead>\n",
       "    <tr style=\"text-align: right;\">\n",
       "      <th>action</th>\n",
       "      <th>id</th>\n",
       "      <th>10</th>\n",
       "      <th>11</th>\n",
       "      <th>12</th>\n",
       "      <th>15</th>\n",
       "      <th>about_us</th>\n",
       "      <th>accept_decline</th>\n",
       "      <th>account</th>\n",
       "      <th>acculynk_bin_check_failed</th>\n",
       "      <th>acculynk_bin_check_success</th>\n",
       "      <th>...</th>\n",
       "      <th>view</th>\n",
       "      <th>views</th>\n",
       "      <th>views_campaign</th>\n",
       "      <th>views_campaign_rules</th>\n",
       "      <th>webcam_upload</th>\n",
       "      <th>weibo_signup_referral_finish</th>\n",
       "      <th>why_host</th>\n",
       "      <th>widget</th>\n",
       "      <th>wishlists</th>\n",
       "      <th>zendesk_login_jwt</th>\n",
       "    </tr>\n",
       "  </thead>\n",
       "  <tbody>\n",
       "    <tr>\n",
       "      <th>count</th>\n",
       "      <td>135043</td>\n",
       "      <td>1.350430e+05</td>\n",
       "      <td>1.350430e+05</td>\n",
       "      <td>1.350430e+05</td>\n",
       "      <td>1.350430e+05</td>\n",
       "      <td>1.350430e+05</td>\n",
       "      <td>135043.000000</td>\n",
       "      <td>1.350430e+05</td>\n",
       "      <td>135043.000000</td>\n",
       "      <td>135043.000000</td>\n",
       "      <td>...</td>\n",
       "      <td>1.350430e+05</td>\n",
       "      <td>135043.000000</td>\n",
       "      <td>1.350430e+05</td>\n",
       "      <td>135043.000000</td>\n",
       "      <td>1.350430e+05</td>\n",
       "      <td>135043.000000</td>\n",
       "      <td>1.350430e+05</td>\n",
       "      <td>135043.000000</td>\n",
       "      <td>135043.000000</td>\n",
       "      <td>135043.000000</td>\n",
       "    </tr>\n",
       "    <tr>\n",
       "      <th>unique</th>\n",
       "      <td>135043</td>\n",
       "      <td>NaN</td>\n",
       "      <td>NaN</td>\n",
       "      <td>NaN</td>\n",
       "      <td>NaN</td>\n",
       "      <td>NaN</td>\n",
       "      <td>NaN</td>\n",
       "      <td>NaN</td>\n",
       "      <td>NaN</td>\n",
       "      <td>NaN</td>\n",
       "      <td>...</td>\n",
       "      <td>NaN</td>\n",
       "      <td>NaN</td>\n",
       "      <td>NaN</td>\n",
       "      <td>NaN</td>\n",
       "      <td>NaN</td>\n",
       "      <td>NaN</td>\n",
       "      <td>NaN</td>\n",
       "      <td>NaN</td>\n",
       "      <td>NaN</td>\n",
       "      <td>NaN</td>\n",
       "    </tr>\n",
       "    <tr>\n",
       "      <th>top</th>\n",
       "      <td>4rsmtjg8o2</td>\n",
       "      <td>NaN</td>\n",
       "      <td>NaN</td>\n",
       "      <td>NaN</td>\n",
       "      <td>NaN</td>\n",
       "      <td>NaN</td>\n",
       "      <td>NaN</td>\n",
       "      <td>NaN</td>\n",
       "      <td>NaN</td>\n",
       "      <td>NaN</td>\n",
       "      <td>...</td>\n",
       "      <td>NaN</td>\n",
       "      <td>NaN</td>\n",
       "      <td>NaN</td>\n",
       "      <td>NaN</td>\n",
       "      <td>NaN</td>\n",
       "      <td>NaN</td>\n",
       "      <td>NaN</td>\n",
       "      <td>NaN</td>\n",
       "      <td>NaN</td>\n",
       "      <td>NaN</td>\n",
       "    </tr>\n",
       "    <tr>\n",
       "      <th>freq</th>\n",
       "      <td>1</td>\n",
       "      <td>NaN</td>\n",
       "      <td>NaN</td>\n",
       "      <td>NaN</td>\n",
       "      <td>NaN</td>\n",
       "      <td>NaN</td>\n",
       "      <td>NaN</td>\n",
       "      <td>NaN</td>\n",
       "      <td>NaN</td>\n",
       "      <td>NaN</td>\n",
       "      <td>...</td>\n",
       "      <td>NaN</td>\n",
       "      <td>NaN</td>\n",
       "      <td>NaN</td>\n",
       "      <td>NaN</td>\n",
       "      <td>NaN</td>\n",
       "      <td>NaN</td>\n",
       "      <td>NaN</td>\n",
       "      <td>NaN</td>\n",
       "      <td>NaN</td>\n",
       "      <td>NaN</td>\n",
       "    </tr>\n",
       "    <tr>\n",
       "      <th>mean</th>\n",
       "      <td>NaN</td>\n",
       "      <td>2.881525e+03</td>\n",
       "      <td>6.458478e+02</td>\n",
       "      <td>5.871317e+03</td>\n",
       "      <td>7.118859e+02</td>\n",
       "      <td>1.948171e+02</td>\n",
       "      <td>0.104878</td>\n",
       "      <td>2.694754e+03</td>\n",
       "      <td>0.030250</td>\n",
       "      <td>0.644958</td>\n",
       "      <td>...</td>\n",
       "      <td>1.144510e+03</td>\n",
       "      <td>0.851410</td>\n",
       "      <td>8.810468e+00</td>\n",
       "      <td>2.109195</td>\n",
       "      <td>6.663100e+02</td>\n",
       "      <td>7.533956</td>\n",
       "      <td>9.717282e+01</td>\n",
       "      <td>2.672512</td>\n",
       "      <td>0.260036</td>\n",
       "      <td>4.075035</td>\n",
       "    </tr>\n",
       "    <tr>\n",
       "      <th>std</th>\n",
       "      <td>NaN</td>\n",
       "      <td>5.343155e+04</td>\n",
       "      <td>1.877772e+04</td>\n",
       "      <td>9.234463e+04</td>\n",
       "      <td>2.175797e+04</td>\n",
       "      <td>1.033990e+04</td>\n",
       "      <td>38.540666</td>\n",
       "      <td>3.570584e+04</td>\n",
       "      <td>11.116192</td>\n",
       "      <td>67.886333</td>\n",
       "      <td>...</td>\n",
       "      <td>2.031090e+04</td>\n",
       "      <td>218.994644</td>\n",
       "      <td>3.196676e+03</td>\n",
       "      <td>725.853192</td>\n",
       "      <td>1.335305e+04</td>\n",
       "      <td>1036.731932</td>\n",
       "      <td>6.135468e+03</td>\n",
       "      <td>556.011678</td>\n",
       "      <td>95.558429</td>\n",
       "      <td>529.001710</td>\n",
       "    </tr>\n",
       "    <tr>\n",
       "      <th>min</th>\n",
       "      <td>NaN</td>\n",
       "      <td>0.000000e+00</td>\n",
       "      <td>0.000000e+00</td>\n",
       "      <td>0.000000e+00</td>\n",
       "      <td>0.000000e+00</td>\n",
       "      <td>0.000000e+00</td>\n",
       "      <td>0.000000</td>\n",
       "      <td>0.000000e+00</td>\n",
       "      <td>0.000000</td>\n",
       "      <td>0.000000</td>\n",
       "      <td>...</td>\n",
       "      <td>0.000000e+00</td>\n",
       "      <td>0.000000</td>\n",
       "      <td>0.000000e+00</td>\n",
       "      <td>0.000000</td>\n",
       "      <td>0.000000e+00</td>\n",
       "      <td>0.000000</td>\n",
       "      <td>0.000000e+00</td>\n",
       "      <td>0.000000</td>\n",
       "      <td>0.000000</td>\n",
       "      <td>0.000000</td>\n",
       "    </tr>\n",
       "    <tr>\n",
       "      <th>25%</th>\n",
       "      <td>NaN</td>\n",
       "      <td>0.000000e+00</td>\n",
       "      <td>0.000000e+00</td>\n",
       "      <td>0.000000e+00</td>\n",
       "      <td>0.000000e+00</td>\n",
       "      <td>0.000000e+00</td>\n",
       "      <td>0.000000</td>\n",
       "      <td>0.000000e+00</td>\n",
       "      <td>0.000000</td>\n",
       "      <td>0.000000</td>\n",
       "      <td>...</td>\n",
       "      <td>0.000000e+00</td>\n",
       "      <td>0.000000</td>\n",
       "      <td>0.000000e+00</td>\n",
       "      <td>0.000000</td>\n",
       "      <td>0.000000e+00</td>\n",
       "      <td>0.000000</td>\n",
       "      <td>0.000000e+00</td>\n",
       "      <td>0.000000</td>\n",
       "      <td>0.000000</td>\n",
       "      <td>0.000000</td>\n",
       "    </tr>\n",
       "    <tr>\n",
       "      <th>50%</th>\n",
       "      <td>NaN</td>\n",
       "      <td>0.000000e+00</td>\n",
       "      <td>0.000000e+00</td>\n",
       "      <td>0.000000e+00</td>\n",
       "      <td>0.000000e+00</td>\n",
       "      <td>0.000000e+00</td>\n",
       "      <td>0.000000</td>\n",
       "      <td>0.000000e+00</td>\n",
       "      <td>0.000000</td>\n",
       "      <td>0.000000</td>\n",
       "      <td>...</td>\n",
       "      <td>0.000000e+00</td>\n",
       "      <td>0.000000</td>\n",
       "      <td>0.000000e+00</td>\n",
       "      <td>0.000000</td>\n",
       "      <td>0.000000e+00</td>\n",
       "      <td>0.000000</td>\n",
       "      <td>0.000000e+00</td>\n",
       "      <td>0.000000</td>\n",
       "      <td>0.000000</td>\n",
       "      <td>0.000000</td>\n",
       "    </tr>\n",
       "    <tr>\n",
       "      <th>75%</th>\n",
       "      <td>NaN</td>\n",
       "      <td>0.000000e+00</td>\n",
       "      <td>0.000000e+00</td>\n",
       "      <td>0.000000e+00</td>\n",
       "      <td>0.000000e+00</td>\n",
       "      <td>0.000000e+00</td>\n",
       "      <td>0.000000</td>\n",
       "      <td>0.000000e+00</td>\n",
       "      <td>0.000000</td>\n",
       "      <td>0.000000</td>\n",
       "      <td>...</td>\n",
       "      <td>0.000000e+00</td>\n",
       "      <td>0.000000</td>\n",
       "      <td>0.000000e+00</td>\n",
       "      <td>0.000000</td>\n",
       "      <td>0.000000e+00</td>\n",
       "      <td>0.000000</td>\n",
       "      <td>0.000000e+00</td>\n",
       "      <td>0.000000</td>\n",
       "      <td>0.000000</td>\n",
       "      <td>0.000000</td>\n",
       "    </tr>\n",
       "    <tr>\n",
       "      <th>max</th>\n",
       "      <td>NaN</td>\n",
       "      <td>3.751000e+06</td>\n",
       "      <td>2.194734e+06</td>\n",
       "      <td>7.864484e+06</td>\n",
       "      <td>2.832112e+06</td>\n",
       "      <td>1.656260e+06</td>\n",
       "      <td>14163.000000</td>\n",
       "      <td>2.118277e+06</td>\n",
       "      <td>4085.000000</td>\n",
       "      <td>11996.000000</td>\n",
       "      <td>...</td>\n",
       "      <td>1.691529e+06</td>\n",
       "      <td>76841.000000</td>\n",
       "      <td>1.174623e+06</td>\n",
       "      <td>266078.000000</td>\n",
       "      <td>1.433839e+06</td>\n",
       "      <td>352419.000000</td>\n",
       "      <td>1.109170e+06</td>\n",
       "      <td>172747.000000</td>\n",
       "      <td>35116.000000</td>\n",
       "      <td>147741.000000</td>\n",
       "    </tr>\n",
       "  </tbody>\n",
       "</table>\n",
       "<p>11 rows × 360 columns</p>\n",
       "</div>"
      ],
      "text/plain": [
       "action          id            10            11            12            15  \\\n",
       "count       135043  1.350430e+05  1.350430e+05  1.350430e+05  1.350430e+05   \n",
       "unique      135043           NaN           NaN           NaN           NaN   \n",
       "top     4rsmtjg8o2           NaN           NaN           NaN           NaN   \n",
       "freq             1           NaN           NaN           NaN           NaN   \n",
       "mean           NaN  2.881525e+03  6.458478e+02  5.871317e+03  7.118859e+02   \n",
       "std            NaN  5.343155e+04  1.877772e+04  9.234463e+04  2.175797e+04   \n",
       "min            NaN  0.000000e+00  0.000000e+00  0.000000e+00  0.000000e+00   \n",
       "25%            NaN  0.000000e+00  0.000000e+00  0.000000e+00  0.000000e+00   \n",
       "50%            NaN  0.000000e+00  0.000000e+00  0.000000e+00  0.000000e+00   \n",
       "75%            NaN  0.000000e+00  0.000000e+00  0.000000e+00  0.000000e+00   \n",
       "max            NaN  3.751000e+06  2.194734e+06  7.864484e+06  2.832112e+06   \n",
       "\n",
       "action      about_us  accept_decline       account  acculynk_bin_check_failed  \\\n",
       "count   1.350430e+05   135043.000000  1.350430e+05              135043.000000   \n",
       "unique           NaN             NaN           NaN                        NaN   \n",
       "top              NaN             NaN           NaN                        NaN   \n",
       "freq             NaN             NaN           NaN                        NaN   \n",
       "mean    1.948171e+02        0.104878  2.694754e+03                   0.030250   \n",
       "std     1.033990e+04       38.540666  3.570584e+04                  11.116192   \n",
       "min     0.000000e+00        0.000000  0.000000e+00                   0.000000   \n",
       "25%     0.000000e+00        0.000000  0.000000e+00                   0.000000   \n",
       "50%     0.000000e+00        0.000000  0.000000e+00                   0.000000   \n",
       "75%     0.000000e+00        0.000000  0.000000e+00                   0.000000   \n",
       "max     1.656260e+06    14163.000000  2.118277e+06                4085.000000   \n",
       "\n",
       "action  acculynk_bin_check_success        ...                  view  \\\n",
       "count                135043.000000        ...          1.350430e+05   \n",
       "unique                         NaN        ...                   NaN   \n",
       "top                            NaN        ...                   NaN   \n",
       "freq                           NaN        ...                   NaN   \n",
       "mean                      0.644958        ...          1.144510e+03   \n",
       "std                      67.886333        ...          2.031090e+04   \n",
       "min                       0.000000        ...          0.000000e+00   \n",
       "25%                       0.000000        ...          0.000000e+00   \n",
       "50%                       0.000000        ...          0.000000e+00   \n",
       "75%                       0.000000        ...          0.000000e+00   \n",
       "max                   11996.000000        ...          1.691529e+06   \n",
       "\n",
       "action          views  views_campaign  views_campaign_rules  webcam_upload  \\\n",
       "count   135043.000000    1.350430e+05         135043.000000   1.350430e+05   \n",
       "unique            NaN             NaN                   NaN            NaN   \n",
       "top               NaN             NaN                   NaN            NaN   \n",
       "freq              NaN             NaN                   NaN            NaN   \n",
       "mean         0.851410    8.810468e+00              2.109195   6.663100e+02   \n",
       "std        218.994644    3.196676e+03            725.853192   1.335305e+04   \n",
       "min          0.000000    0.000000e+00              0.000000   0.000000e+00   \n",
       "25%          0.000000    0.000000e+00              0.000000   0.000000e+00   \n",
       "50%          0.000000    0.000000e+00              0.000000   0.000000e+00   \n",
       "75%          0.000000    0.000000e+00              0.000000   0.000000e+00   \n",
       "max      76841.000000    1.174623e+06         266078.000000   1.433839e+06   \n",
       "\n",
       "action  weibo_signup_referral_finish      why_host         widget  \\\n",
       "count                  135043.000000  1.350430e+05  135043.000000   \n",
       "unique                           NaN           NaN            NaN   \n",
       "top                              NaN           NaN            NaN   \n",
       "freq                             NaN           NaN            NaN   \n",
       "mean                        7.533956  9.717282e+01       2.672512   \n",
       "std                      1036.731932  6.135468e+03     556.011678   \n",
       "min                         0.000000  0.000000e+00       0.000000   \n",
       "25%                         0.000000  0.000000e+00       0.000000   \n",
       "50%                         0.000000  0.000000e+00       0.000000   \n",
       "75%                         0.000000  0.000000e+00       0.000000   \n",
       "max                    352419.000000  1.109170e+06  172747.000000   \n",
       "\n",
       "action      wishlists  zendesk_login_jwt  \n",
       "count   135043.000000      135043.000000  \n",
       "unique            NaN                NaN  \n",
       "top               NaN                NaN  \n",
       "freq              NaN                NaN  \n",
       "mean         0.260036           4.075035  \n",
       "std         95.558429         529.001710  \n",
       "min          0.000000           0.000000  \n",
       "25%          0.000000           0.000000  \n",
       "50%          0.000000           0.000000  \n",
       "75%          0.000000           0.000000  \n",
       "max      35116.000000      147741.000000  \n",
       "\n",
       "[11 rows x 360 columns]"
      ]
     },
     "execution_count": 6,
     "metadata": {},
     "output_type": "execute_result"
    }
   ],
   "source": [
    "actions.describe(include = 'all')"
   ]
  },
  {
   "cell_type": "markdown",
   "metadata": {},
   "source": [
    "___actions_ table__\n",
    "\n",
    "The _actions_ table contains information of how long each user spend on each action. <br>\n",
    "It contains __135043__ unique users and 358 unique actions. <br>\n",
    "I filled all the NaN cells with 0, assuming the user has not trigger the particular action if there is no log information associated with the user id and specific action name. <br>\n",
    "To make the analysis more accurate, I will consider using dimensionality reducing techniques. However, we will the table as it is for now."
   ]
  },
  {
   "cell_type": "markdown",
   "metadata": {},
   "source": [
    "#### 2.1.2 abnb Dataset\n",
    "\n",
    "This table contains user information of __213,178__ unique users."
   ]
  },
  {
   "cell_type": "code",
   "execution_count": 7,
   "metadata": {},
   "outputs": [
    {
     "data": {
      "text/html": [
       "<div>\n",
       "<style scoped>\n",
       "    .dataframe tbody tr th:only-of-type {\n",
       "        vertical-align: middle;\n",
       "    }\n",
       "\n",
       "    .dataframe tbody tr th {\n",
       "        vertical-align: top;\n",
       "    }\n",
       "\n",
       "    .dataframe thead th {\n",
       "        text-align: right;\n",
       "    }\n",
       "</style>\n",
       "<table border=\"1\" class=\"dataframe\">\n",
       "  <thead>\n",
       "    <tr style=\"text-align: right;\">\n",
       "      <th></th>\n",
       "      <th>id</th>\n",
       "      <th>date_account_created</th>\n",
       "      <th>timestamp_first_active</th>\n",
       "      <th>date_first_booking</th>\n",
       "      <th>gender</th>\n",
       "      <th>age</th>\n",
       "      <th>signup_method</th>\n",
       "      <th>signup_flow</th>\n",
       "      <th>language</th>\n",
       "      <th>affiliate_channel</th>\n",
       "      <th>affiliate_provider</th>\n",
       "      <th>first_affiliate_tracked</th>\n",
       "      <th>signup_app</th>\n",
       "      <th>first_device_type</th>\n",
       "      <th>first_browser</th>\n",
       "      <th>country_destination</th>\n",
       "    </tr>\n",
       "  </thead>\n",
       "  <tbody>\n",
       "    <tr>\n",
       "      <th>0</th>\n",
       "      <td>gxn3p5htnn</td>\n",
       "      <td>2010-06-28</td>\n",
       "      <td>20090319043255</td>\n",
       "      <td>NaN</td>\n",
       "      <td>-unknown-</td>\n",
       "      <td>NaN</td>\n",
       "      <td>facebook</td>\n",
       "      <td>0</td>\n",
       "      <td>en</td>\n",
       "      <td>direct</td>\n",
       "      <td>direct</td>\n",
       "      <td>untracked</td>\n",
       "      <td>Web</td>\n",
       "      <td>Mac Desktop</td>\n",
       "      <td>Chrome</td>\n",
       "      <td>NDF</td>\n",
       "    </tr>\n",
       "    <tr>\n",
       "      <th>1</th>\n",
       "      <td>820tgsjxq7</td>\n",
       "      <td>2011-05-25</td>\n",
       "      <td>20090523174809</td>\n",
       "      <td>NaN</td>\n",
       "      <td>MALE</td>\n",
       "      <td>38.0</td>\n",
       "      <td>facebook</td>\n",
       "      <td>0</td>\n",
       "      <td>en</td>\n",
       "      <td>seo</td>\n",
       "      <td>google</td>\n",
       "      <td>untracked</td>\n",
       "      <td>Web</td>\n",
       "      <td>Mac Desktop</td>\n",
       "      <td>Chrome</td>\n",
       "      <td>NDF</td>\n",
       "    </tr>\n",
       "    <tr>\n",
       "      <th>2</th>\n",
       "      <td>4ft3gnwmtx</td>\n",
       "      <td>2010-09-28</td>\n",
       "      <td>20090609231247</td>\n",
       "      <td>2010-08-02</td>\n",
       "      <td>FEMALE</td>\n",
       "      <td>56.0</td>\n",
       "      <td>basic</td>\n",
       "      <td>3</td>\n",
       "      <td>en</td>\n",
       "      <td>direct</td>\n",
       "      <td>direct</td>\n",
       "      <td>untracked</td>\n",
       "      <td>Web</td>\n",
       "      <td>Windows Desktop</td>\n",
       "      <td>IE</td>\n",
       "      <td>US</td>\n",
       "    </tr>\n",
       "    <tr>\n",
       "      <th>3</th>\n",
       "      <td>bjjt8pjhuk</td>\n",
       "      <td>2011-12-05</td>\n",
       "      <td>20091031060129</td>\n",
       "      <td>2012-09-08</td>\n",
       "      <td>FEMALE</td>\n",
       "      <td>42.0</td>\n",
       "      <td>facebook</td>\n",
       "      <td>0</td>\n",
       "      <td>en</td>\n",
       "      <td>direct</td>\n",
       "      <td>direct</td>\n",
       "      <td>untracked</td>\n",
       "      <td>Web</td>\n",
       "      <td>Mac Desktop</td>\n",
       "      <td>Firefox</td>\n",
       "      <td>other</td>\n",
       "    </tr>\n",
       "    <tr>\n",
       "      <th>4</th>\n",
       "      <td>87mebub9p4</td>\n",
       "      <td>2010-09-14</td>\n",
       "      <td>20091208061105</td>\n",
       "      <td>2010-02-18</td>\n",
       "      <td>-unknown-</td>\n",
       "      <td>41.0</td>\n",
       "      <td>basic</td>\n",
       "      <td>0</td>\n",
       "      <td>en</td>\n",
       "      <td>direct</td>\n",
       "      <td>direct</td>\n",
       "      <td>untracked</td>\n",
       "      <td>Web</td>\n",
       "      <td>Mac Desktop</td>\n",
       "      <td>Chrome</td>\n",
       "      <td>US</td>\n",
       "    </tr>\n",
       "  </tbody>\n",
       "</table>\n",
       "</div>"
      ],
      "text/plain": [
       "           id date_account_created  timestamp_first_active date_first_booking  \\\n",
       "0  gxn3p5htnn           2010-06-28          20090319043255                NaN   \n",
       "1  820tgsjxq7           2011-05-25          20090523174809                NaN   \n",
       "2  4ft3gnwmtx           2010-09-28          20090609231247         2010-08-02   \n",
       "3  bjjt8pjhuk           2011-12-05          20091031060129         2012-09-08   \n",
       "4  87mebub9p4           2010-09-14          20091208061105         2010-02-18   \n",
       "\n",
       "      gender   age signup_method  signup_flow language affiliate_channel  \\\n",
       "0  -unknown-   NaN      facebook            0       en            direct   \n",
       "1       MALE  38.0      facebook            0       en               seo   \n",
       "2     FEMALE  56.0         basic            3       en            direct   \n",
       "3     FEMALE  42.0      facebook            0       en            direct   \n",
       "4  -unknown-  41.0         basic            0       en            direct   \n",
       "\n",
       "  affiliate_provider first_affiliate_tracked signup_app first_device_type  \\\n",
       "0             direct               untracked        Web       Mac Desktop   \n",
       "1             google               untracked        Web       Mac Desktop   \n",
       "2             direct               untracked        Web   Windows Desktop   \n",
       "3             direct               untracked        Web       Mac Desktop   \n",
       "4             direct               untracked        Web       Mac Desktop   \n",
       "\n",
       "  first_browser country_destination  \n",
       "0        Chrome                 NDF  \n",
       "1        Chrome                 NDF  \n",
       "2            IE                  US  \n",
       "3       Firefox               other  \n",
       "4        Chrome                  US  "
      ]
     },
     "execution_count": 7,
     "metadata": {},
     "output_type": "execute_result"
    }
   ],
   "source": [
    "abnb_raw.head(5)"
   ]
  },
  {
   "cell_type": "code",
   "execution_count": 8,
   "metadata": {
    "scrolled": true
   },
   "outputs": [
    {
     "name": "stdout",
     "output_type": "stream",
     "text": [
      "<class 'pandas.core.frame.DataFrame'>\n",
      "RangeIndex: 213451 entries, 0 to 213450\n",
      "Data columns (total 16 columns):\n",
      "id                         213451 non-null object\n",
      "date_account_created       213451 non-null object\n",
      "timestamp_first_active     213451 non-null int64\n",
      "date_first_booking         88908 non-null object\n",
      "gender                     213451 non-null object\n",
      "age                        125461 non-null float64\n",
      "signup_method              213451 non-null object\n",
      "signup_flow                213451 non-null int64\n",
      "language                   213451 non-null object\n",
      "affiliate_channel          213451 non-null object\n",
      "affiliate_provider         213451 non-null object\n",
      "first_affiliate_tracked    207386 non-null object\n",
      "signup_app                 213451 non-null object\n",
      "first_device_type          213451 non-null object\n",
      "first_browser              213451 non-null object\n",
      "country_destination        213451 non-null object\n",
      "dtypes: float64(1), int64(2), object(13)\n",
      "memory usage: 26.1+ MB\n"
     ]
    }
   ],
   "source": [
    "abnb_raw.info()"
   ]
  },
  {
   "cell_type": "markdown",
   "metadata": {},
   "source": [
    "### 2.2 Feature Exploration & Engineering\n",
    "\n",
    "<a id = 'explore'></a>"
   ]
  },
  {
   "cell_type": "code",
   "execution_count": 9,
   "metadata": {
    "collapsed": true
   },
   "outputs": [],
   "source": [
    "# Generating Target Variable\n",
    "abnb_raw.loc[abnb_raw['date_first_booking'].notnull(), 'booked'] = 1\n",
    "abnb_raw.loc[abnb_raw['date_first_booking'].isnull(), 'booked'] = 0"
   ]
  },
  {
   "cell_type": "code",
   "execution_count": 10,
   "metadata": {
    "scrolled": true
   },
   "outputs": [
    {
     "data": {
      "text/plain": [
       "<matplotlib.axes._subplots.AxesSubplot at 0x10b814940>"
      ]
     },
     "execution_count": 10,
     "metadata": {},
     "output_type": "execute_result"
    },
    {
     "data": {
      "image/png": "[encoded data removed]",
      "text/plain": [
       "<matplotlib.figure.Figure at 0x10b814080>"
      ]
     },
     "metadata": {},
     "output_type": "display_data"
    }
   ],
   "source": [
    "# age\n",
    "# Half of the values for age are missing, making it very hard to impute\n",
    "# for the available age values, there are some unreasonable ones: age over 100, age over 1000\n",
    "# it is hard to make sense of these unresonable inputs\n",
    "# therefore, modified age into a binary variable 'age_cat' where \n",
    "# 1 means a meaningful age is provided and 0 means the age provided is incorrect or age is not provided\n",
    "abnb_raw.loc[(abnb_raw['age']<18) |(abnb_raw['age'] >99)|(abnb_raw['age'].isnull()), 'age_cat' ] = 0\n",
    "abnb_raw.loc[(abnb_raw['age'] >=18) & (abnb_raw['age']<=99), 'age_cat'] = 1\n",
    "sns.barplot(x = 'age_cat', y = 'booked', data = abnb_raw)"
   ]
  },
  {
   "cell_type": "code",
   "execution_count": 11,
   "metadata": {},
   "outputs": [
    {
     "name": "stdout",
     "output_type": "stream",
     "text": [
      "                    id\n",
      "first_browser         \n",
      "-unknown-        27266\n",
      "AOL Explorer       245\n",
      "Android Browser    851\n",
      "Chrome           63845\n",
      "Chrome Mobile     1270\n",
      "Firefox          33655\n",
      "IE               21068\n",
      "Mobile Safari    19274\n",
      "Safari           45169\n",
      "other              808\n"
     ]
    },
    {
     "data": {
      "text/plain": [
       "Text(0.5,1,'Booking Rate by First Browser')"
      ]
     },
     "execution_count": 11,
     "metadata": {},
     "output_type": "execute_result"
    },
    {
     "data": {
      "image/png": "[encoded data removed]",
      "text/plain": [
       "<matplotlib.figure.Figure at 0x10af9c3c8>"
      ]
     },
     "metadata": {},
     "output_type": "display_data"
    }
   ],
   "source": [
    "# first_browser\n",
    "major_browser_list = ['-unknown-', 'Chrome', 'AOL Explorer', 'Android Browser', \n",
    "                      'Chrome Mobile', 'Firefox', 'IE', 'Mobile Safari',\n",
    "                     'Safari']\n",
    "abnb_raw.loc[~abnb_raw['first_browser'].isin(major_browser_list), 'first_browser'] = 'other'\n",
    "print(abnb_raw[['id', 'first_browser']].groupby('first_browser').count())\n",
    "plt.subplots(figsize = (15, 7))\n",
    "sns.barplot(x = 'first_browser', y = 'booked', data = abnb_raw).set_title('Booking Rate by First Browser')"
   ]
  },
  {
   "cell_type": "code",
   "execution_count": 12,
   "metadata": {},
   "outputs": [
    {
     "data": {
      "text/plain": [
       "Text(0.5,1,'Booking Rate by First Device Type')"
      ]
     },
     "execution_count": 12,
     "metadata": {},
     "output_type": "execute_result"
    },
    {
     "data": {
      "image/png": "[encoded data removed]",
      "text/plain": [
       "<matplotlib.figure.Figure at 0x10ad729e8>"
      ]
     },
     "metadata": {},
     "output_type": "display_data"
    }
   ],
   "source": [
    "# first_device_type\n",
    "# Combined Smartphone(other) with Other/Unknown since it's got too few observations\n",
    "abnb_raw.loc[abnb_raw['first_device_type'] == 'SmartPhone (Other)', 'first_device_type'] = 'Other/Unknown'\n",
    "abnb_raw[['id', 'first_device_type']].groupby('first_device_type').count()\n",
    "plt.subplots(figsize = (15, 7))\n",
    "sns.barplot(x = 'first_device_type', y = 'booked', data = abnb_raw).set_title('Booking Rate by First Device Type')"
   ]
  },
  {
   "cell_type": "code",
   "execution_count": 13,
   "metadata": {},
   "outputs": [
    {
     "data": {
      "text/plain": [
       "Text(0.5,1,'Booking Rate by Signup APP')"
      ]
     },
     "execution_count": 13,
     "metadata": {},
     "output_type": "execute_result"
    },
    {
     "data": {
      "image/png": "[encoded data removed]",
      "text/plain": [
       "<matplotlib.figure.Figure at 0x10b800b38>"
      ]
     },
     "metadata": {},
     "output_type": "display_data"
    }
   ],
   "source": [
    "# signup APP\n",
    "abnb_raw[['id', 'signup_app']].groupby('signup_app').count()\n",
    "plt.subplots(figsize = (10, 7))\n",
    "sns.barplot(x = 'signup_app', y = 'booked', data = abnb_raw).set_title('Booking Rate by Signup APP')"
   ]
  },
  {
   "cell_type": "code",
   "execution_count": 14,
   "metadata": {},
   "outputs": [
    {
     "data": {
      "text/plain": [
       "Text(0.5,1,'Booking Rate by Affiliate Provider')"
      ]
     },
     "execution_count": 14,
     "metadata": {},
     "output_type": "execute_result"
    },
    {
     "data": {
      "image/png": "[encoded data removed]",
      "text/plain": [
       "<matplotlib.figure.Figure at 0x10b014f98>"
      ]
     },
     "metadata": {},
     "output_type": "display_data"
    }
   ],
   "source": [
    "# affiliate_provider\n",
    "# dropped the classes with too few observations (<1% of the entire dataset)\n",
    "abnb_raw[['id', 'affiliate_provider']].groupby('affiliate_provider').count()\n",
    "aff_provider_drop_list = ['baidu', 'daum', 'email-marketing', 'naver', 'wayn', 'yandex']\n",
    "abnb_raw = abnb_raw[~abnb_raw['affiliate_provider'].isin(aff_provider_drop_list)]\n",
    "plt.subplots(figsize = (18, 7))\n",
    "sns.barplot(x = 'affiliate_provider', y = 'booked', data = abnb_raw).set_title('Booking Rate by Affiliate Provider')"
   ]
  },
  {
   "cell_type": "code",
   "execution_count": 15,
   "metadata": {},
   "outputs": [
    {
     "data": {
      "text/plain": [
       "Text(0.5,1,'Booking Rate by Affiliate Channel')"
      ]
     },
     "execution_count": 15,
     "metadata": {},
     "output_type": "execute_result"
    },
    {
     "data": {
      "image/png": "[encoded data removed]",
      "text/plain": [
       "<matplotlib.figure.Figure at 0x10b4d4358>"
      ]
     },
     "metadata": {},
     "output_type": "display_data"
    }
   ],
   "source": [
    "# affiliate channel\n",
    "abnb_raw[['id','affiliate_channel']].groupby('affiliate_channel').count()\n",
    "plt.subplots(figsize = (10, 7))\n",
    "sns.barplot(x = 'affiliate_channel', y = 'booked', data = abnb_raw).set_title('Booking Rate by Affiliate Channel')"
   ]
  },
  {
   "cell_type": "code",
   "execution_count": 16,
   "metadata": {
    "collapsed": true
   },
   "outputs": [],
   "source": [
    "# 94% of the records have a class of 'en'\n",
    "# however, running a statistical test indicates that there is a significant difference between the booking rate of English and non-English speakers\n",
    "# Recategorize language into a new variable with only 2 classes: 1 for 'en'; 0 for 'non-en'\n",
    "abnb_raw.loc[abnb_raw['language'] == 'en', 'language_cat'] = 1\n",
    "abnb_raw.loc[abnb_raw['language'] != 'en', 'language_cat'] = 0"
   ]
  },
  {
   "cell_type": "code",
   "execution_count": 17,
   "metadata": {
    "scrolled": true
   },
   "outputs": [
    {
     "name": "stdout",
     "output_type": "stream",
     "text": [
      "                 id\n",
      "signup_flow        \n",
      "0            164505\n",
      "1              1047\n",
      "2              6881\n",
      "3              8822\n",
      "4                 1\n",
      "5                36\n",
      "6               301\n",
      "8               240\n",
      "10                2\n",
      "12             9329\n",
      "15               10\n",
      "16               11\n",
      "20               14\n",
      "21              196\n",
      "23             2832\n",
      "24             4323\n",
      "25            14628\n"
     ]
    },
    {
     "data": {
      "image/png": "[encoded data removed]",
      "text/plain": [
       "<matplotlib.figure.Figure at 0x10bc28d68>"
      ]
     },
     "metadata": {},
     "output_type": "display_data"
    }
   ],
   "source": [
    "# signup_flow\n",
    "print(abnb_raw[['id', 'signup_flow']].groupby('signup_flow').count())\n",
    "# signup_flow is a categorical variable with high caridnality. \n",
    "# some of the classes only represent a small proportion of records.\n",
    "# In order to make the analysis more meaningful and less subjective to extremely values, I will drop all the classes with less than 1% of the total sample size\n",
    "# That is: 4, 5, 10, 15, 16, 20, 21\n",
    "signup_flow_drop_list = [4,5,10, 15, 16, 20, 21]\n",
    "abnb_raw = abnb_raw[~abnb_raw['signup_flow'].isin(signup_flow_drop_list)] \n",
    "sns.barplot(x = 'signup_flow', y = 'booked', data = abnb_raw)\n",
    "\n",
    "# change numerical value to categorical\n",
    "abnb_raw.loc[abnb_raw['signup_flow'] == 0, 'signup_flow'] = 'signup_flow_0'\n",
    "abnb_raw.loc[abnb_raw['signup_flow'] == 1, 'signup_flow'] = 'signup_flow_1'\n",
    "abnb_raw.loc[abnb_raw['signup_flow'] == 2, 'signup_flow'] = 'signup_flow_2'\n",
    "abnb_raw.loc[abnb_raw['signup_flow'] == 3, 'signup_flow'] = 'signup_flow_3'\n",
    "abnb_raw.loc[abnb_raw['signup_flow'] == 6, 'signup_flow'] = 'signup_flow_6'\n",
    "abnb_raw.loc[abnb_raw['signup_flow'] == 8, 'signup_flow'] = 'signup_flow_8'\n",
    "abnb_raw.loc[abnb_raw['signup_flow'] == 12, 'signup_flow'] = 'signup_flow_12'\n",
    "abnb_raw.loc[abnb_raw['signup_flow'] == 23, 'signup_flow'] = 'signup_flow_23'\n",
    "abnb_raw.loc[abnb_raw['signup_flow'] == 24, 'signup_flow'] = 'signup_flow_24'\n",
    "abnb_raw.loc[abnb_raw['signup_flow'] == 25, 'signup_flow'] = 'signup_flow_25'"
   ]
  },
  {
   "cell_type": "code",
   "execution_count": 18,
   "metadata": {
    "scrolled": false
   },
   "outputs": [
    {
     "data": {
      "text/plain": [
       "Text(0.5,1,'Booking Rate by Signup Method')"
      ]
     },
     "execution_count": 18,
     "metadata": {},
     "output_type": "execute_result"
    },
    {
     "data": {
      "image/png": "[encoded data removed]",
      "text/plain": [
       "<matplotlib.figure.Figure at 0x10a822978>"
      ]
     },
     "metadata": {},
     "output_type": "display_data"
    }
   ],
   "source": [
    "# signup_method\n",
    "sns.barplot(x = 'signup_method', y = 'booked', data = abnb_raw).set_title('Booking Rate by Signup Method')"
   ]
  },
  {
   "cell_type": "code",
   "execution_count": 19,
   "metadata": {},
   "outputs": [],
   "source": [
    "# create a variable for the time difference between first active time and date account created\n",
    "# since there are only a few records that activated before creating an account, made timediff a dummy variable\n",
    "# 1 means activated before account created\n",
    "# 0 means activated when account created\n",
    "type(abnb_raw.loc[0,'timestamp_first_active'])\n",
    "type(abnb_raw.loc[0, 'date_account_created'])\n",
    "abnb_raw['acct_created_dt'] = pd.to_datetime(abnb_raw['date_account_created'], infer_datetime_format = True)\n",
    "\n",
    "abnb_raw['first_active_dt'] = abnb_raw['timestamp_first_active'].astype(str)\n",
    "abnb_raw['first_active_dt'] = abnb_raw['first_active_dt'].str.slice(0, 8)\n",
    "abnb_raw['first_active_dt'] = pd.to_datetime(abnb_raw['first_active_dt'], format='%Y%m%d')\n",
    "abnb_raw['timediff'] = pd.to_numeric(abnb_raw['acct_created_dt'] - abnb_raw['first_active_dt'])\n",
    "abnb_raw.loc[abnb_raw['timediff']!=0 , 'timediff'] = 1\n"
   ]
  },
  {
   "cell_type": "code",
   "execution_count": 20,
   "metadata": {},
   "outputs": [
    {
     "name": "stdout",
     "output_type": "stream",
     "text": [
      "id                         95527\n",
      "date_account_created       95527\n",
      "timestamp_first_active     95527\n",
      "date_first_booking         28991\n",
      "gender                     95527\n",
      "age                        16819\n",
      "signup_method              95527\n",
      "signup_flow                95527\n",
      "language                   95527\n",
      "affiliate_channel          95527\n",
      "affiliate_provider         95527\n",
      "first_affiliate_tracked    91624\n",
      "signup_app                 95527\n",
      "first_device_type          95527\n",
      "first_browser              95527\n",
      "country_destination        95527\n",
      "booked                     95527\n",
      "age_cat                    95527\n",
      "language_cat               95527\n",
      "acct_created_dt            95527\n",
      "first_active_dt            95527\n",
      "timediff                   95527\n",
      "dtype: int64\n"
     ]
    },
    {
     "data": {
      "text/plain": [
       "Text(0.5,1,'Boooking Rate for Gender Specification')"
      ]
     },
     "execution_count": 20,
     "metadata": {},
     "output_type": "execute_result"
    },
    {
     "data": {
      "image/png": "[encoded data removed]",
      "text/plain": [
       "<matplotlib.figure.Figure at 0x10b4bb2b0>"
      ]
     },
     "metadata": {},
     "output_type": "display_data"
    }
   ],
   "source": [
    "### Explore Gender ###\n",
    "\n",
    "print(abnb_raw.loc[(abnb_raw['gender'] == '-unknown-') ].count())\n",
    "# The average booking rate for gender plot shows that there isn't a significant difference between female and male\n",
    "# Also, about half of the records have unknown gender specification, which has a substaintially lower booking rate\n",
    "# Convert Gender from 4 class into binary classess\n",
    "# 1 for specified gender; 0 for unknown gender\n",
    "abnb_raw.loc[abnb_raw['gender'] == '-unknown-', 'gender-specified'] = 0\n",
    "abnb_raw.loc[(abnb_raw['gender'] == 'MALE')|(abnb_raw['gender'] =='FEMALE')|(abnb_raw['gender'] =='OTHER'), 'gender-specified'] = 1\n",
    "fig, (ax1, ax2) = plt.subplots(ncols = 2, figsize = (10,5))\n",
    "sns.barplot(x = 'gender', y='booked', data = abnb_raw, palette = 'Set2', ax = ax1).set_title('Average Booking Rate for Gender')\n",
    "sns.barplot(x = 'gender-specified', y='booked', data = abnb_raw, ax = ax2).set_title('Boooking Rate for Gender Specification')"
   ]
  },
  {
   "cell_type": "markdown",
   "metadata": {},
   "source": [
    "### 2.3 Preparing Datasets for Modeling\n",
    "\n",
    "<a id = 'prepare'></a>"
   ]
  },
  {
   "cell_type": "code",
   "execution_count": 21,
   "metadata": {
    "collapsed": true
   },
   "outputs": [],
   "source": [
    "### Drop Unnecessary columns\n",
    "\n",
    "# first_affiliate_tracked: dropped because half of the value is 'untracked', which essentially gives no information\n",
    "# gender: dropped as we creates a new gender-specified column\n",
    "# date_first_booking: information that will not be available for us when we predict if the user will make a booking\n",
    "# country_destination: this will also not be available for us when we predict if the user will make a booking\n",
    "# age: while this is likely to be an important feature, there are too many missing values and abnormal values in the dataset \n",
    "\n",
    "abnb = abnb_raw.drop(['first_affiliate_tracked', 'gender', 'date_first_booking', 'country_destination', 'age'], axis = 1)\n",
    "# drop inter-stage variables\n",
    "abnb = abnb.drop(['timestamp_first_active','date_account_created','acct_created_dt','first_active_dt'], axis = 1)\n",
    "abnb = abnb.drop(['language'], axis = 1)"
   ]
  },
  {
   "cell_type": "code",
   "execution_count": 22,
   "metadata": {},
   "outputs": [
    {
     "name": "stdout",
     "output_type": "stream",
     "text": [
      "<class 'pandas.core.frame.DataFrame'>\n",
      "Int64Index: 212908 entries, 0 to 213450\n",
      "Data columns (total 54 columns):\n",
      "id                                        212908 non-null object\n",
      "booked                                    212908 non-null float64\n",
      "age_cat                                   212908 non-null float64\n",
      "language_cat                              212908 non-null float64\n",
      "timediff                                  212908 non-null int64\n",
      "gender-specified                          212908 non-null float64\n",
      "signup_method_facebook                    212908 non-null uint8\n",
      "signup_method_google                      212908 non-null uint8\n",
      "signup_flow_signup_flow_1                 212908 non-null uint8\n",
      "signup_flow_signup_flow_12                212908 non-null uint8\n",
      "signup_flow_signup_flow_2                 212908 non-null uint8\n",
      "signup_flow_signup_flow_23                212908 non-null uint8\n",
      "signup_flow_signup_flow_24                212908 non-null uint8\n",
      "signup_flow_signup_flow_25                212908 non-null uint8\n",
      "signup_flow_signup_flow_3                 212908 non-null uint8\n",
      "signup_flow_signup_flow_6                 212908 non-null uint8\n",
      "signup_flow_signup_flow_8                 212908 non-null uint8\n",
      "affiliate_channel_content                 212908 non-null uint8\n",
      "affiliate_channel_direct                  212908 non-null uint8\n",
      "affiliate_channel_other                   212908 non-null uint8\n",
      "affiliate_channel_remarketing             212908 non-null uint8\n",
      "affiliate_channel_sem-brand               212908 non-null uint8\n",
      "affiliate_channel_sem-non-brand           212908 non-null uint8\n",
      "affiliate_channel_seo                     212908 non-null uint8\n",
      "affiliate_provider_craigslist             212908 non-null uint8\n",
      "affiliate_provider_direct                 212908 non-null uint8\n",
      "affiliate_provider_facebook               212908 non-null uint8\n",
      "affiliate_provider_facebook-open-graph    212908 non-null uint8\n",
      "affiliate_provider_google                 212908 non-null uint8\n",
      "affiliate_provider_gsp                    212908 non-null uint8\n",
      "affiliate_provider_meetup                 212908 non-null uint8\n",
      "affiliate_provider_other                  212908 non-null uint8\n",
      "affiliate_provider_padmapper              212908 non-null uint8\n",
      "affiliate_provider_vast                   212908 non-null uint8\n",
      "affiliate_provider_yahoo                  212908 non-null uint8\n",
      "signup_app_Moweb                          212908 non-null uint8\n",
      "signup_app_Web                            212908 non-null uint8\n",
      "signup_app_iOS                            212908 non-null uint8\n",
      "first_device_type_Android Tablet          212908 non-null uint8\n",
      "first_device_type_Desktop (Other)         212908 non-null uint8\n",
      "first_device_type_Mac Desktop             212908 non-null uint8\n",
      "first_device_type_Other/Unknown           212908 non-null uint8\n",
      "first_device_type_Windows Desktop         212908 non-null uint8\n",
      "first_device_type_iPad                    212908 non-null uint8\n",
      "first_device_type_iPhone                  212908 non-null uint8\n",
      "first_browser_AOL Explorer                212908 non-null uint8\n",
      "first_browser_Android Browser             212908 non-null uint8\n",
      "first_browser_Chrome                      212908 non-null uint8\n",
      "first_browser_Chrome Mobile               212908 non-null uint8\n",
      "first_browser_Firefox                     212908 non-null uint8\n",
      "first_browser_IE                          212908 non-null uint8\n",
      "first_browser_Mobile Safari               212908 non-null uint8\n",
      "first_browser_Safari                      212908 non-null uint8\n",
      "first_browser_other                       212908 non-null uint8\n",
      "dtypes: float64(4), int64(1), object(1), uint8(48)\n",
      "memory usage: 31.1+ MB\n"
     ]
    }
   ],
   "source": [
    "# use get dummies to change nominal features\n",
    "\n",
    "dummies = pd.get_dummies(abnb[['signup_method', 'signup_flow', 'affiliate_channel', 'affiliate_provider',\n",
    "                     'signup_app', 'first_device_type', 'first_browser']], drop_first = True)\n",
    "abnb_dm = abnb.drop(['signup_method', 'signup_flow', 'affiliate_channel', 'affiliate_provider',\n",
    "                     'signup_app', 'first_device_type', 'first_browser'], axis = 1)\n",
    "abnb_dm = pd.concat([abnb_dm, dummies], axis = 1)\n",
    "abnb_dm.info()"
   ]
  },
  {
   "cell_type": "code",
   "execution_count": 23,
   "metadata": {},
   "outputs": [],
   "source": [
    "# Joining the user info table with actions table\n",
    "# in this step, I will generate two tables,\n",
    "# the first will be inner join, only including values on both tables\n",
    "# the second will be a left join, assuming that the users without web session logs have not used the website\n",
    "# I will check if those users have booked yet, if they have, I will only keep the inner join table\n",
    "\n",
    "data_in = pd.merge(abnb_dm, actions, how = 'inner', on = 'id' )\n",
    "# After a quick test, I decide to use the inner join table since\n",
    "# not all ids' web session logs are documented in the actions table"
   ]
  },
  {
   "cell_type": "code",
   "execution_count": 24,
   "metadata": {
    "collapsed": true
   },
   "outputs": [],
   "source": [
    "data_in = data_in.drop('id', axis = 1)"
   ]
  },
  {
   "cell_type": "code",
   "execution_count": 25,
   "metadata": {},
   "outputs": [],
   "source": [
    "abnb_m = abnb_dm.drop('id', axis = 1)"
   ]
  },
  {
   "cell_type": "code",
   "execution_count": 26,
   "metadata": {
    "scrolled": true
   },
   "outputs": [
    {
     "name": "stdout",
     "output_type": "stream",
     "text": [
      "<class 'pandas.core.frame.DataFrame'>\n",
      "Int64Index: 73264 entries, 0 to 73263\n",
      "Columns: 412 entries, booked to zendesk_login_jwt\n",
      "dtypes: float64(363), int64(1), uint8(48)\n",
      "memory usage: 207.4 MB\n"
     ]
    }
   ],
   "source": [
    "data_in.info()"
   ]
  },
  {
   "cell_type": "markdown",
   "metadata": {},
   "source": [
    "In the end, we are left with __73,264__ observations and __411__ features"
   ]
  },
  {
   "cell_type": "markdown",
   "metadata": {},
   "source": [
    "### 2.4 Split Train & Test Dataset\n",
    "\n",
    "<a id = 'split'></a>"
   ]
  },
  {
   "cell_type": "code",
   "execution_count": 27,
   "metadata": {
    "collapsed": true
   },
   "outputs": [],
   "source": [
    "# train-test split\n",
    "\n",
    "X = data_in.drop('booked', axis = 1)\n",
    "y = data_in['booked']\n",
    "X_train, X_test, y_train, y_test = train_test_split(X, y, test_size = 0.2, random_state = 0, stratify = y)"
   ]
  },
  {
   "cell_type": "code",
   "execution_count": 28,
   "metadata": {},
   "outputs": [],
   "source": [
    "# train-test split user information data\n",
    "Xu = abnb_m.drop('booked', axis = 1)\n",
    "yu = abnb_m['booked']\n",
    "Xu_train, Xu_test, yu_train, yu_test = train_test_split(Xu, yu, test_size = 0.2, random_state = 0, stratify = yu)"
   ]
  },
  {
   "cell_type": "code",
   "execution_count": 29,
   "metadata": {
    "collapsed": true
   },
   "outputs": [],
   "source": [
    "# split train-validation using stratified K-folds\n",
    "\n",
    "#kfold = StratifiedKFold(n_splits = 10, random_state = 0).split(X_train, y_train)"
   ]
  },
  {
   "cell_type": "markdown",
   "metadata": {
    "collapsed": true
   },
   "source": [
    "## 3. Modeling\n",
    "\n",
    "<a id = 'model'></a>"
   ]
  },
  {
   "cell_type": "code",
   "execution_count": 30,
   "metadata": {
    "collapsed": true
   },
   "outputs": [],
   "source": [
    "from sklearn.model_selection import cross_val_score"
   ]
  },
  {
   "cell_type": "markdown",
   "metadata": {
    "collapsed": true
   },
   "source": [
    "### 3.1 Logistic Regression\n",
    "\n",
    "<a id = 'logreg'></a>"
   ]
  },
  {
   "cell_type": "code",
   "execution_count": 31,
   "metadata": {},
   "outputs": [
    {
     "data": {
      "text/plain": [
       "array([0.68216327, 0.67915032, 0.68094182, 0.68324518, 0.67787067])"
      ]
     },
     "execution_count": 31,
     "metadata": {},
     "output_type": "execute_result"
    }
   ],
   "source": [
    "# Lower performance compared to Random Forest \n",
    "# Also Time Consuming\n",
    "logreg = LogisticRegression()\n",
    "\n",
    "score_logreg = cross_val_score(logreg, X_train, y_train, cv = 5)\n",
    "score_logreg"
   ]
  },
  {
   "cell_type": "markdown",
   "metadata": {
    "collapsed": true
   },
   "source": [
    "### 3.2 Random Forest\n",
    "\n",
    "<a id = 'rf'></a>"
   ]
  },
  {
   "cell_type": "code",
   "execution_count": 32,
   "metadata": {},
   "outputs": [
    {
     "data": {
      "text/plain": [
       "array([0.75383828, 0.73746162, 0.73217332, 0.74257932, 0.73473217,\n",
       "       0.72990957, 0.72849829, 0.73430034, 0.72901024, 0.73805461])"
      ]
     },
     "execution_count": 32,
     "metadata": {},
     "output_type": "execute_result"
    }
   ],
   "source": [
    "rf = RandomForestClassifier()\n",
    "\n",
    "score_rf = cross_val_score(rf, X_train, y_train, cv = 10)\n",
    "score_rf"
   ]
  },
  {
   "cell_type": "markdown",
   "metadata": {
    "collapsed": true
   },
   "source": [
    "### 3.3 SVM\n",
    "\n",
    "<a id = 'svc'></a>"
   ]
  },
  {
   "cell_type": "code",
   "execution_count": 33,
   "metadata": {},
   "outputs": [
    {
     "data": {
      "text/plain": [
       "'\\nsvc = SVC()\\n\\nscore_svc = cross_val_score(svc, X_train, y_train, cv = 10)\\nscore_svc\\n'"
      ]
     },
     "execution_count": 33,
     "metadata": {},
     "output_type": "execute_result"
    }
   ],
   "source": [
    "# Very time consuming on a traditional machine\n",
    "'''\n",
    "svc = SVC()\n",
    "\n",
    "score_svc = cross_val_score(svc, X_train, y_train, cv = 10)\n",
    "score_svc\n",
    "'''"
   ]
  },
  {
   "cell_type": "markdown",
   "metadata": {},
   "source": [
    "### Check to see if only including user information will yield a better performance"
   ]
  },
  {
   "cell_type": "code",
   "execution_count": 34,
   "metadata": {},
   "outputs": [
    {
     "data": {
      "text/plain": [
       "array([0.68907415, 0.68728351, 0.6962278 , 0.68944665, 0.68961367])"
      ]
     },
     "execution_count": 34,
     "metadata": {},
     "output_type": "execute_result"
    }
   ],
   "source": [
    "# Logistic regression with only user information data\n",
    "# performance is similar\n",
    "logreg_u = LogisticRegression()\n",
    "\n",
    "score_logreg_u = cross_val_score(logreg_u, Xu_train, yu_train, cv = 5)\n",
    "score_logreg_u"
   ]
  },
  {
   "cell_type": "code",
   "execution_count": 35,
   "metadata": {
    "scrolled": true
   },
   "outputs": [
    {
     "data": {
      "text/plain": [
       "array([0.68756604, 0.69355407, 0.69294898, 0.68930899, 0.69046501,\n",
       "       0.69780413, 0.69099342, 0.68658995, 0.69146313, 0.69363551])"
      ]
     },
     "execution_count": 35,
     "metadata": {},
     "output_type": "execute_result"
    }
   ],
   "source": [
    "# Random Forest with only user information data\n",
    "# Results show that predictive power is higher with web action data\n",
    "rf_u = RandomForestClassifier()\n",
    "\n",
    "score_rf_u = cross_val_score(rf_u, Xu_train, yu_train, cv = 10)\n",
    "score_rf_u"
   ]
  },
  {
   "cell_type": "code",
   "execution_count": 36,
   "metadata": {},
   "outputs": [
    {
     "data": {
      "text/plain": [
       "'\\nsvc_u = SVC()\\n\\nscore_svc_u = cross_val_score(svc_u, Xu_train, yu_train, cv = 5)\\nscore_svc_u\\n'"
      ]
     },
     "execution_count": 36,
     "metadata": {},
     "output_type": "execute_result"
    }
   ],
   "source": [
    "# SVC stills takes a significantly longer time with the user information dataset\n",
    "'''\n",
    "svc_u = SVC()\n",
    "\n",
    "score_svc_u = cross_val_score(svc_u, Xu_train, yu_train, cv = 5)\n",
    "score_svc_u\n",
    "'''"
   ]
  },
  {
   "cell_type": "markdown",
   "metadata": {},
   "source": [
    "Based on the cross-validation scores, I will choose __random forest__ classifier and use the joined dataset of user info and web actions. "
   ]
  },
  {
   "cell_type": "code",
   "execution_count": 37,
   "metadata": {},
   "outputs": [
    {
     "data": {
      "text/plain": [
       "0.7376646420528219"
      ]
     },
     "execution_count": 37,
     "metadata": {},
     "output_type": "execute_result"
    }
   ],
   "source": [
    "# predict using test data\n",
    "rf_final = RandomForestClassifier()\n",
    "rf_final.fit(X_train, y_train)\n",
    "rf_final_score = rf_final.score(X_test, y_test)\n",
    "rf_final_score"
   ]
  },
  {
   "cell_type": "markdown",
   "metadata": {},
   "source": [
    "## Exercise Highlights\n",
    "1. Effective Feature Engineering through EDA\n",
    "    - Through feature exploration, was able to identify features that are likely not to be correlated with the target variable and engineered the features in a meaningful way.\n",
    "\n",
    "2. Experience with web log data of large volume\n",
    "    - The inital web log data has over 10M observations. This analysis pivoted it into a table with 30K+ observations and 300+ features that is able to connect easily with the other user information table. \n",
    "    - Still need to find more effective way to extract useful information from web log data\n",
    "    \n",
    "<a id = 'highlight'></a>"
   ]
  },
  {
   "cell_type": "markdown",
   "metadata": {},
   "source": [
    "## Future Improvements\n",
    "\n",
    "1. Dimensionality Reduction\n",
    "    - Web actions data has more than 300 features. While most algorithms are able to relatively fast, it is still worthwhile to explore how performance is affected if I reduce the complexity of the features and only extract relevant features in the study.\n",
    "\n",
    "2. Tune Hyperparameters\n",
    "    - If time permitted, will run cross validation to tune parameters of the classifier instead of using the default settings.\n",
    "    \n",
    "3. Other Evaluation Methods\n",
    "    - In addition to accuracy score, will explore other evaluation metrics to find the model with the best performance.\n",
    "\n",
    "<a id = 'improvement'></a>"
   ]
  }
 ],
 "metadata": {
  "kernelspec": {
   "display_name": "Python 3",
   "language": "python",
   "name": "python3"
  },
  "language_info": {
   "codemirror_mode": {
    "name": "ipython",
    "version": 3
   },
   "file_extension": ".py",
   "mimetype": "text/x-python",
   "name": "python",
   "nbconvert_exporter": "python",
   "pygments_lexer": "ipython3",
   "version": "3.6.3"
  }
 },
 "nbformat": 4,
 "nbformat_minor": 2
}
